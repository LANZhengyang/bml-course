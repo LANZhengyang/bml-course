{
 "cells": [
  {
   "cell_type": "code",
   "execution_count": 92,
   "metadata": {},
   "outputs": [],
   "source": [
    "import numpy as np\n",
    "import matplotlib.pyplot as plt\n",
    "import time\n",
    "import pickle as pkl\n",
    "import urllib.request # to fetch data online\n",
    "import re # regular expressions to parse html\n",
    "from sklearn.feature_extraction.text import CountVectorizer\n",
    "from sklearn.decomposition import LatentDirichletAllocation\n",
    "\n",
    "import seaborn as sns\n",
    "sns.set(style=\"ticks\");"
   ]
  },
  {
   "cell_type": "code",
   "execution_count": 97,
   "metadata": {},
   "outputs": [],
   "source": [
    "%%capture \n",
    "%pylab inline\n",
    "%load_ext autoreload\n",
    "%autoreload 2\n",
    "figsize(10,8) # in the global namespace when inline backend is in use."
   ]
  },
  {
   "cell_type": "code",
   "execution_count": 112,
   "metadata": {},
   "outputs": [
    {
     "data": {
      "image/png": "[encoded data removed]",
      "text/plain": [
       "<matplotlib.figure.Figure at 0x203d4860b8>"
      ]
     },
     "metadata": {},
     "output_type": "display_data"
    }
   ],
   "source": [
    "# Cosmetics\n",
    "plt.ticklabel_format(style='sci', axis='x', scilimits=(0,0));\n",
    "mpl.rcParams['xtick.labelsize'] = 32\n",
    "mpl.rcParams['ytick.labelsize'] = 32\n",
    "plt.rc('axes', labelsize=32)\n",
    "plt.rc('legend', fontsize=22)\n",
    "mpl.rcParams['ps.useafm'] = True\n",
    "mpl.rcParams['pdf.use14corefonts'] = True\n",
    "mpl.rcParams['text.usetex'] = True"
   ]
  },
  {
   "cell_type": "markdown",
   "metadata": {},
   "source": [
    "## Download/read NIPS and JMLR data"
   ]
  },
  {
   "cell_type": "code",
   "execution_count": 26,
   "metadata": {},
   "outputs": [
    {
     "name": "stdout",
     "output_type": "stream",
     "text": [
      "7234 abstracts read in 6.288s.\n"
     ]
    }
   ],
   "source": [
    "# NIPS data in in ../data/papers.csv\n",
    "bool_abstract_detected = False\n",
    "bool_abstract_finished = False\n",
    "nips_papers = []\n",
    "\n",
    "tic = time.time()\n",
    "with open(\"../data/papers.csv\") as fin:\n",
    "    lines = fin.readlines()\n",
    "    for index, line in enumerate(lines):\n",
    "        \n",
    "        #print(line.split(','))\n",
    "        \n",
    "        if \".pdf,\" in line or \"Abstract Missing\" in line:\n",
    "            # New entry detected, read paper id and year of publication\n",
    "            line_split = line.split(',')\n",
    "            paper_id = line_split[0]\n",
    "            year = line_split[1]\n",
    "        \n",
    "        if bool_abstract_detected and not bool_abstract_finished:\n",
    "            # Read new line of abstract and check whether it is the last one\n",
    "            abstract += \" \"+line\n",
    "            bool_abstract_finished = lines[index+1][-5:].isupper() or \"Introduction\" in lines[index+1]\n",
    "            \n",
    "        if bool_abstract_finished:\n",
    "            # Save abstract and prepare for the next one\n",
    "            paper = {}\n",
    "            paper[\"id\"] = paper_id\n",
    "            paper[\"year\"] = year\n",
    "            paper[\"abstract\"] = abstract\n",
    "            nips_papers.append(paper)\n",
    "            bool_abstract_detected = False\n",
    "            bool_abstract_finished = False\n",
    "        \n",
    "        if line.startswith(\"ABSTRACT\") or line.startswith(\"Abstract\"):\n",
    "            # New abstract starting next line\n",
    "            abstract = \"\"\n",
    "            bool_abstract_detected = True\n",
    "\n",
    "toc = time.time()\n",
    "number_of_papers = len(nips_papers)\n",
    "print(str(number_of_papers)+\" abstracts read in %0.3fs.\" % (toc-tic))"
   ]
  },
  {
   "cell_type": "markdown",
   "metadata": {},
   "source": [
    "JMLR data has to be manually fetched. It takes some time, but I saved it as a pickle file in ../data. So load this if you don't want to wait."
   ]
  },
  {
   "cell_type": "code",
   "execution_count": 2,
   "metadata": {},
   "outputs": [
    {
     "name": "stdout",
     "output_type": "stream",
     "text": [
      "Reading volume 1\n",
      "11 papers in volume 1\n",
      "Reading volume 2\n",
      "32 papers in volume 2\n",
      "Reading volume 3\n",
      "56 papers in volume 3\n",
      "Reading volume 4\n",
      "54 papers in volume 4\n",
      "Reading volume 5\n",
      "31 papers in volume 5\n",
      "Reading volume 6\n",
      "73 papers in volume 6\n",
      "Reading volume 7\n",
      "100 papers in volume 7\n",
      "Reading volume 8\n",
      "91 papers in volume 8\n",
      "Reading volume 9\n",
      "95 papers in volume 9\n",
      "Reading volume 10\n",
      "100 papers in volume 10\n",
      "Reading volume 11\n",
      "118 papers in volume 11\n",
      "Reading volume 12\n",
      "105 papers in volume 12\n",
      "Reading volume 13\n",
      "119 papers in volume 13\n",
      "Reading volume 14\n",
      "Dead link: http://www.jmlr.org/papers/v14/debrabanter13a.html\n",
      "121 papers in volume 14\n",
      "Reading volume 15\n",
      "120 papers in volume 15\n",
      "Reading volume 16\n",
      "Dead link: http://www.jmlr.org/papers/v16/feldman15a.html\n",
      "118 papers in volume 16\n",
      "Reading volume 17\n",
      "238 papers in volume 17\n",
      "Reading volume 18\n",
      "234 papers in volume 18\n",
      "Reading volume 19\n",
      "84 papers in volume 19\n",
      "1898 papers read in 465.666s.\n"
     ]
    }
   ],
   "source": [
    "volume_numbers = range(1,20)\n",
    "jmlr_papers = []\n",
    "tic = time.time()\n",
    "for volume_number in volume_numbers:\n",
    "    print(\"Reading volume\", str(volume_number))\n",
    "\n",
    "    # Read page listing papers in given volume\n",
    "    volume_url = \"http://www.jmlr.org/papers/v\"+str(volume_number)\n",
    "    html = urllib.request.urlopen(volume_url)\n",
    "    page = html.read().decode('utf-8')\n",
    "    \n",
    "    # Find urls of abstracts\n",
    "    candidate_patterns = [r\"<a href=(.*)>\\[abs\\]</a>\", r\"<a href=(.*)>abs</a>\"]\n",
    "    #candidate_patterns = [r\"<a href=(.*)>\\[abs\\]</a>\", r\"<a href=\\\"(.*)\\\">abs</a>\", r\"<a href=(.*)>abs</a>\", r\"<a href=\\'(.*)\\'>abs</a>\"]\n",
    "    cpt_patterns = 0\n",
    "    paper_pattern = candidate_patterns[cpt_patterns]\n",
    "    while re.search(paper_pattern, page) == None:     \n",
    "        cpt_patterns += 1\n",
    "        paper_pattern = candidate_patterns[cpt_patterns]\n",
    "    papers_matches = re.finditer(paper_pattern, page)\n",
    "\n",
    "    # Read abstract\n",
    "    cpt = 0\n",
    "    for paper_match in papers_matches:\n",
    "        cpt += 1\n",
    "        paper_id = paper_match.group(1)\n",
    "        paper_id = paper_id.split('/')[-1] # some issues have full urls, so just keep the trailing id\n",
    "        paper_id = paper_id.replace('\\\"',\"\")\n",
    "        paper_id = paper_id.replace('\\'',\"\")                            \n",
    "        abstract_url = volume_url+'/'+paper_id            \n",
    "        #if paper_id.startswith(\"http\"):\n",
    "            # some issues have full urls, some local urls\"\n",
    "        #    abstract_url = paper_id\n",
    "        #elif paper_id.startswith(\"/papers\"):\n",
    "        #    temp = paper_id.split(\"/\")\n",
    "        #    abstract_url = paper_id\n",
    "        #else:\n",
    "        #    abstract_url = volume_url+'/'+paper_id\n",
    "        #print(abstract_url)\n",
    "        try:\n",
    "            abstract_html = urllib.request.urlopen(abstract_url)\n",
    "            abstract_page = abstract_html.read().decode('utf-8')\n",
    "            #print(abstract_page)\n",
    "            abstract_pattern = re.compile(r\"<h3>Abstract</h3>(.*)<font\", re.DOTALL) # DOTALL allows . to match with newlines\n",
    "            abstract_match = re.search(abstract_pattern, abstract_page) \n",
    "            #print(abstract_match)\n",
    "            #abstracts_matches = re.finditer(abstract_pattern, abstract_page)\n",
    "            #for abstract_match in abstracts_matches:\n",
    "            paper = {}\n",
    "            paper[\"volume\"] = volume_number\n",
    "            paper[\"abstract\"] = abstract_match.group(1).replace(\"\\n\",\"\") # also replace <p>\n",
    "            jmlr_papers.append(paper)  \n",
    "        except:\n",
    "            print(\"Dead link:\", abstract_url)\n",
    "            pass\n",
    "    print(cpt, \"papers in volume\", volume_number)\n",
    "\n",
    "toc = time.time()\n",
    "number_of_jmlr_papers = len(jmlr_papers)\n",
    "print(number_of_jmlr_papers, \"papers read in %0.3fs.\"%(toc - tic))"
   ]
  },
  {
   "cell_type": "code",
   "execution_count": 4,
   "metadata": {},
   "outputs": [],
   "source": [
    "pkl.dump(jmlr_papers, open(\"jmlr.pkl\",\"wb\"))"
   ]
  },
  {
   "cell_type": "markdown",
   "metadata": {},
   "source": [
    "## A quick look at JMLR data"
   ]
  },
  {
   "cell_type": "code",
   "execution_count": 75,
   "metadata": {},
   "outputs": [
    {
     "name": "stdout",
     "output_type": "stream",
     "text": [
      "There are 98 neural network papers out of 1898\n",
      "There are 252 Bayesian papers out of 1898\n"
     ]
    }
   ],
   "source": [
    "bayesian_jmlr_papers = []\n",
    "neural_network_jmlr_papers = []\n",
    "for paper in jmlr_papers:\n",
    "    bayesian_keywords = [\"Bayesian\", \"variational Bayes\", \"Carlo\", \"MCMC\"]\n",
    "    if any(kwd in paper[\"abstract\"] for kwd in bayesian_keywords):\n",
    "        bayesian_jmlr_papers.append(paper)\n",
    "    neural_network_keywords = [\"neural net\", \"Neural net\", \"deep\", \"Deep\"]\n",
    "    if any(kwd in paper[\"abstract\"] for kwd in neural_network_keywords):\n",
    "        neural_network_jmlr_papers.append(paper)\n",
    "        \n",
    "number_of_jmlr_papers = len(jmlr_papers)\n",
    "number_of_Bayesian_jmlr_papers = len(bayesian_jmlr_papers)   \n",
    "print(\"There are\", str(len(neural_network_jmlr_papers))+\" neural network papers out of\", number_of_jmlr_papers)\n",
    "print(\"There are\", str(number_of_Bayesian_jmlr_papers)+\" Bayesian papers out of\", number_of_jmlr_papers)"
   ]
  },
  {
   "cell_type": "code",
   "execution_count": 76,
   "metadata": {},
   "outputs": [
    {
     "name": "stdout",
     "output_type": "stream",
     "text": [
      "Out of which the number of papers about Bayesian networks is\n",
      "63\n"
     ]
    }
   ],
   "source": [
    "# Bayesian networks may not be about Bayesian statistics\n",
    "print(\"Out of which the number of papers about Bayesian networks is\")\n",
    "print(np.sum([\"Bayesian network\" in paper[\"abstract\"] for paper in bayesian_jmlr_papers]))"
   ]
  },
  {
   "cell_type": "code",
   "execution_count": 113,
   "metadata": {},
   "outputs": [
    {
     "data": {
      "image/png": "[encoded data removed]",
      "text/plain": [
       "<matplotlib.figure.Figure at 0x203da6a6a0>"
      ]
     },
     "metadata": {},
     "output_type": "display_data"
    }
   ],
   "source": [
    "# plot proportion of Bayesian papers in JMLR\n",
    "volumes = [int(paper[\"volume\"]) for paper in jmlr_papers] + [20]\n",
    "bins = np.unique(volumes) - .5\n",
    "plt.hist([int(paper[\"volume\"]) for paper in jmlr_papers], color=\"blue\", bins=bins, alpha=.3)\n",
    "bins = np.unique([int(paper[\"volume\"]) for paper in jmlr_papers] + [20]) - .5\n",
    "plt.hist([int(paper[\"volume\"]) for paper in bayesian_jmlr_papers], color=\"red\", bins=bins)\n",
    "plt.xticks([5*i for i in range(6)])\n",
    "#plt.title(\"# Bayesian papers in JMLR\")\n",
    "plt.xlabel(\"Volume\")\n",
    "plt.ylabel(\"\\# papers\")\n",
    "plt.xlim([0,20])\n",
    "plt.savefig(\"../figures/bayesianPapersJMLR.pdf\")\n",
    "plt.show()"
   ]
  },
  {
   "cell_type": "markdown",
   "metadata": {},
   "source": [
    "## A quick look at Bayesian papers at NIPS 1985--2017"
   ]
  },
  {
   "cell_type": "code",
   "execution_count": 68,
   "metadata": {},
   "outputs": [
    {
     "name": "stdout",
     "output_type": "stream",
     "text": [
      "There are 1063 neural network papers out of 7234\n",
      "There are 850 Bayesian papers out of 7234\n"
     ]
    }
   ],
   "source": [
    "# Select Bayesian and neural papers\n",
    "bayesian_nips_papers = []\n",
    "neural_network_nips_papers = []\n",
    "for paper in nips_papers:\n",
    "    bayesian_keywords = [\"Bayesian\", \"variational Bayes\", \"Carlo\", \"MCMC\"]\n",
    "    if any(kwd in paper[\"abstract\"] for kwd in bayesian_keywords):\n",
    "        bayesian_nips_papers.append(paper)\n",
    "    neural_network_keywords = [\"neural network\", \"Neural network\", \"deep\", \"Deep\"]\n",
    "    if any(kwd in paper[\"abstract\"] for kwd in neural_network_keywords):\n",
    "        neural_network_nips_papers.append(paper)\n",
    "number_of_Bayesian_nips_papers = len(bayesian_nips_papers)   \n",
    "print(\"There are\", str(len(neural_network_nips_papers))+\" neural network papers out of\", number_of_papers)\n",
    "print(\"There are\", str(number_of_Bayesian_nips_papers)+\" Bayesian papers out of\", number_of_papers)"
   ]
  },
  {
   "cell_type": "code",
   "execution_count": 69,
   "metadata": {},
   "outputs": [
    {
     "name": "stdout",
     "output_type": "stream",
     "text": [
      "Out of which the number of papers about Bayesian networks is\n",
      "53\n"
     ]
    }
   ],
   "source": [
    "# Bayesian networks may not be about Bayesian statistics\n",
    "print(\"Out of which the number of papers about Bayesian networks is\")\n",
    "print(np.sum([\"Bayesian network\" in paper[\"abstract\"] for paper in bayesian_nips_papers]))"
   ]
  },
  {
   "cell_type": "code",
   "execution_count": 115,
   "metadata": {},
   "outputs": [
    {
     "data": {
      "image/png": "[encoded data removed]",
      "text/plain": [
       "<matplotlib.figure.Figure at 0x2043382be0>"
      ]
     },
     "metadata": {},
     "output_type": "display_data"
    },
    {
     "data": {
      "image/png": "[encoded data removed]",
      "text/plain": [
       "<matplotlib.figure.Figure at 0x2043340940>"
      ]
     },
     "metadata": {},
     "output_type": "display_data"
    }
   ],
   "source": [
    "# plot proportion of Bayesian papers\n",
    "years = [int(paper[\"year\"]) for paper in nips_papers] + [2018]\n",
    "bins = np.unique(years) - .5\n",
    "plt.hist([int(paper[\"year\"]) for paper in nips_papers], color=\"blue\", bins=bins, alpha=.3)\n",
    "bins = np.unique([int(paper[\"year\"]) for paper in bayesian_nips_papers] + [2018]) - .5\n",
    "plt.hist([int(paper[\"year\"]) for paper in bayesian_nips_papers], color=\"red\", bins=bins)\n",
    "plt.xticks([1990+10*i for i in range(3)])\n",
    "#plt.title(\"# Bayesian papers at NeurIPS conferences 1987-2017\")\n",
    "plt.xlabel(\"Year\")\n",
    "plt.ylabel(\"\\# papers\")\n",
    "plt.savefig(\"../figures/bayesianPapersNIPS.pdf\")\n",
    "plt.show()\n",
    "\n",
    "# plot proportion of NN papers\n",
    "years = [int(paper[\"year\"]) for paper in nips_papers] + [2018]\n",
    "bins = np.unique(years) - .5\n",
    "plt.hist([int(paper[\"year\"]) for paper in nips_papers], color=\"blue\", bins=bins, alpha=.3)\n",
    "bins = np.unique([int(paper[\"year\"]) for paper in neural_network_nips_papers] + [2018]) - .5\n",
    "plt.hist([int(paper[\"year\"]) for paper in neural_network_nips_papers], color=\"red\", bins=bins)\n",
    "plt.xticks([1990+10*i for i in range(3)])\n",
    "#plt.title(\"# Deep papers at NeurIPS conferences 1987-2017\")\n",
    "plt.xlabel(\"Year\")\n",
    "plt.ylabel(\"\\# papers\")\n",
    "plt.savefig(\"../figures/neuralPapersNIPS.pdf\")\n",
    "plt.show()"
   ]
  },
  {
   "cell_type": "markdown",
   "metadata": {},
   "source": [
    "## Topic modelling"
   ]
  },
  {
   "cell_type": "markdown",
   "metadata": {},
   "source": [
    "Let us first look at all JMLR"
   ]
  },
  {
   "cell_type": "code",
   "execution_count": 56,
   "metadata": {},
   "outputs": [
    {
     "name": "stdout",
     "output_type": "stream",
     "text": [
      "Extraction done in 0.314s.\n",
      "LDA fit done in 41.943s.\n"
     ]
    }
   ],
   "source": [
    "# Extract tf features (raw term counts)\n",
    "tf_vectorizer = CountVectorizer(max_df=0.95, min_df=2,\n",
    "                                max_features=1000,\n",
    "                                stop_words='english') # output is a sparse matrix\n",
    "tic = time.time()\n",
    "tf = tf_vectorizer.fit_transform([paper[\"abstract\"] for paper in jmlr_papers])\n",
    "print(\"Extraction done in %0.3fs.\" % (time.time() - tic))\n",
    "\n",
    "# Fit the LDA\n",
    "number_of_topics = 10\n",
    "lda = LatentDirichletAllocation(n_components=number_of_topics, max_iter=100,\n",
    "                                learning_method='online',\n",
    "                                learning_offset=50.,\n",
    "                                doc_topic_prior= 1., \n",
    "                                random_state=0)\n",
    "tic = time.time()\n",
    "lda.fit(tf)\n",
    "print(\"LDA fit done in %0.3fs.\" % (time.time() - tic))"
   ]
  },
  {
   "cell_type": "code",
   "execution_count": 57,
   "metadata": {},
   "outputs": [
    {
     "name": "stdout",
     "output_type": "stream",
     "text": [
      "Topic #0: matrix clustering low graph based random problem rank data results\n",
      "Topic #1: sub sup algorithm convex problems loss problem regularization log bound\n",
      "Topic #2: learning algorithms methods problems machine framework task tasks data large\n",
      "Topic #3: models model em data bayesian variables inference networks network structure\n",
      "Topic #4: algorithm algorithms learning gradient time optimal online stochastic policy based\n",
      "Topic #5: estimation statistical information model estimator estimate function method level sample\n",
      "Topic #6: kernel space functions kernels function gaussian support prior vector distributions\n",
      "Topic #7: classification learning class training data error classifiers supervised risk examples\n",
      "Topic #8: nbsp href papers pdf font bib target 17 right 100\n",
      "Topic #9: data method selection high dimensional feature regression analysis features linear\n",
      "\n"
     ]
    }
   ],
   "source": [
    "# Print top words in each topic\n",
    "def print_top_words(model, feature_names, number_of_top_words=10):\n",
    "    \"\"\"print top words by topic in a given model\n",
    "    \"\"\"\n",
    "    for topic_idx, topic in enumerate(model.components_):\n",
    "        message = \"Topic #%d: \" % topic_idx\n",
    "        message += \" \".join([feature_names[i]\n",
    "                             for i in topic.argsort()[:-number_of_top_words - 1:-1]])\n",
    "        print(message)\n",
    "    print()\n",
    "       \n",
    "tf_feature_names = tf_vectorizer.get_feature_names()\n",
    "print_top_words(lda, tf_feature_names)"
   ]
  },
  {
   "cell_type": "markdown",
   "metadata": {},
   "source": [
    "Now only Bayesian papers"
   ]
  },
  {
   "cell_type": "code",
   "execution_count": 58,
   "metadata": {},
   "outputs": [
    {
     "name": "stdout",
     "output_type": "stream",
     "text": [
      "Extraction done in 0.050s.\n",
      "LDA fit done in 3.921s.\n"
     ]
    }
   ],
   "source": [
    "# Extract tf features (raw term counts)\n",
    "tf_vectorizer = CountVectorizer(max_df=0.95, min_df=2,\n",
    "                                max_features=1000,\n",
    "                                stop_words='english') # output is a sparse matrix\n",
    "tic = time.time()\n",
    "tf = tf_vectorizer.fit_transform([paper[\"abstract\"] for paper in bayesian_jmlr_papers])\n",
    "print(\"Extraction done in %0.3fs.\" % (time.time() - tic))\n",
    "\n",
    "# Fit the LDA\n",
    "number_of_topics = 10\n",
    "lda = LatentDirichletAllocation(n_components=number_of_topics, max_iter=100,\n",
    "                                learning_method='batch',\n",
    "                                learning_offset=50.,\n",
    "                                doc_topic_prior= 1., \n",
    "                                random_state=0)\n",
    "tic = time.time()\n",
    "lda.fit(tf)\n",
    "print(\"LDA fit done in %0.3fs.\" % (time.time() - tic))"
   ]
  },
  {
   "cell_type": "code",
   "execution_count": 59,
   "metadata": {},
   "outputs": [
    {
     "name": "stdout",
     "output_type": "stream",
     "text": [
      "Topic #0: networks network structure time algorithm bayesian search variables structures learning\n",
      "Topic #1: gaussian function bayesian functions process propose gp approach kernel gradient\n",
      "Topic #2: model selection sup bayesian problem standard performance approach prior solution\n",
      "Topic #3: learning bayesian use results different methods provide based bounds method\n",
      "Topic #4: markov algorithm model based data present monte efficient inference chain\n",
      "Topic #5: bayesian inference variational latent methods non models analysis model modeling\n",
      "Topic #6: learning models algorithms optimization data multi present topic hidden available\n",
      "Topic #7: data em method number model training sets statistical bayesian set\n",
      "Topic #8: model models clustering analysis data probabilistic based used problem empirical\n",
      "Topic #9: nbsp posterior data target mcmc inference href papers 17 bib\n",
      "\n"
     ]
    }
   ],
   "source": [
    "tf_feature_names = tf_vectorizer.get_feature_names()\n",
    "print_top_words(lda, tf_feature_names)"
   ]
  },
  {
   "cell_type": "markdown",
   "metadata": {},
   "source": [
    "Now Bayesian papers in JMLR+NIPS"
   ]
  },
  {
   "cell_type": "code",
   "execution_count": 108,
   "metadata": {},
   "outputs": [
    {
     "name": "stdout",
     "output_type": "stream",
     "text": [
      "1102\n"
     ]
    }
   ],
   "source": [
    "print(len(bayesian_jmlr_papers+bayesian_nips_papers))"
   ]
  },
  {
   "cell_type": "code",
   "execution_count": 80,
   "metadata": {},
   "outputs": [
    {
     "name": "stdout",
     "output_type": "stream",
     "text": [
      "Extraction done in 0.209s.\n",
      "LDA fit done in 25.318s.\n"
     ]
    }
   ],
   "source": [
    "# Extract tf features (raw term counts)\n",
    "tf_vectorizer = CountVectorizer(max_df=0.95, min_df=2,\n",
    "                                max_features=1000,\n",
    "                                stop_words='english') # output is a sparse matrix\n",
    "tic = time.time()\n",
    "tf = tf_vectorizer.fit_transform([paper[\"abstract\"] for paper in bayesian_jmlr_papers+bayesian_nips_papers])\n",
    "print(\"Extraction done in %0.3fs.\" % (time.time() - tic))\n",
    "\n",
    "# Fit the LDA\n",
    "number_of_topics = 10\n",
    "lda = LatentDirichletAllocation(n_components=number_of_topics, max_iter=100,\n",
    "                                learning_method='batch',\n",
    "                                learning_offset=50.,\n",
    "                                doc_topic_prior= 1., # alpha concentration parameter\n",
    "                                random_state=0)\n",
    "tic = time.time()\n",
    "lda.fit(tf)\n",
    "print(\"LDA fit done in %0.3fs.\" % (time.time() - tic))"
   ]
  },
  {
   "cell_type": "code",
   "execution_count": 81,
   "metadata": {},
   "outputs": [
    {
     "name": "stdout",
     "output_type": "stream",
     "text": [
      "Topic #0: model models data process latent bayesian dirichlet hierarchical nonparametric inference\n",
      "Topic #1: features learn problem different knowledge learning image object example examples\n",
      "Topic #2: method neural bayesian using linear state based kernel approach model\n",
      "Topic #3: belief propagation nodes local tree posterior node nbsp given algorithm\n",
      "Topic #4: learning data bayesian model training classification performance selection prediction sets\n",
      "Topic #5: inference monte carlo markov sampling variational time algorithm mcmc approximate\n",
      "Topic #6: function optimization algorithm optimal learning problem gradient methods bounds state\n",
      "Topic #7: learning networks variables structure network bayesian em paper distribution algorithm\n",
      "Topic #8: bayesian gaussian prior regression non estimation likelihood sparse parameters matrix\n",
      "Topic #9: model information bayesian human visual task probability sensory prior concept\n",
      "\n"
     ]
    }
   ],
   "source": [
    "tf_feature_names = tf_vectorizer.get_feature_names()\n",
    "print_top_words(lda, tf_feature_names, number_of_top_words=10)"
   ]
  }
 ],
 "metadata": {
  "kernelspec": {
   "display_name": "Python 3",
   "language": "python",
   "name": "python3"
  },
  "language_info": {
   "codemirror_mode": {
    "name": "ipython",
    "version": 3
   },
   "file_extension": ".py",
   "mimetype": "text/x-python",
   "name": "python",
   "nbconvert_exporter": "python",
   "pygments_lexer": "ipython3",
   "version": "3.7.4"
  },
  "toc": {
   "base_numbering": 1,
   "nav_menu": {},
   "number_sections": true,
   "sideBar": true,
   "skip_h1_title": false,
   "title_cell": "Table of Contents",
   "title_sidebar": "Contents",
   "toc_cell": false,
   "toc_position": {},
   "toc_section_display": true,
   "toc_window_display": false
  }
 },
 "nbformat": 4,
 "nbformat_minor": 2
}
