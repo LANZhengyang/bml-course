{
 "cells": [
  {
   "cell_type": "code",
   "execution_count": null,
   "metadata": {},
   "outputs": [],
   "source": [
    "# Make sure you have pymc3 installed\n",
    "import sys\n",
    "!{sys.executable} -m pip install pymc3"
   ]
  },
  {
   "cell_type": "code",
   "execution_count": null,
   "metadata": {},
   "outputs": [],
   "source": [
    "# make sure the notebook reloads the module each time we modify it\n",
    "%load_ext autoreload\n",
    "%autoreload 2\n",
    "\n",
    "# make sure the displays are nice\n",
    "%matplotlib notebook\n",
    "#figsize(12,8)"
   ]
  },
  {
   "cell_type": "code",
   "execution_count": null,
   "metadata": {},
   "outputs": [],
   "source": [
    "import parametric_regression_student_version as pr\n",
    "import matplotlib.pyplot as plt\n",
    "import seaborn as sns\n",
    "sns.set(style=\"ticks\")\n",
    "import numpy as np\n",
    "import pymc3 as pm"
   ]
  },
  {
   "cell_type": "markdown",
   "metadata": {},
   "source": [
    "## Preparing data and utilities"
   ]
  },
  {
   "cell_type": "code",
   "execution_count": null,
   "metadata": {},
   "outputs": [],
   "source": [
    "X, y, theta_true, sigma_noise, indices_support = pr.generate_data(sample_size = 50, dimension = 100, seed = 1)\n",
    "plt.plot(X[:,8], y, '+')\n",
    "plt.show()"
   ]
  },
  {
   "cell_type": "code",
   "execution_count": null,
   "metadata": {},
   "outputs": [],
   "source": [
    "fake_std = .5*np.ones(theta_true.shape)\n",
    "fake_theta_hat = np.zeros(theta_true.shape)\n",
    "fig, ax = plt.subplots(2, figsize=(10,8))\n",
    "pr.plot_coefficients(ax, theta_true=theta_true, indices_support=indices_support, theta_hat=fake_theta_hat, lower_bound=fake_theta_hat-fake_std, \n",
    "                     upper_bound=fake_theta_hat+fake_std)\n",
    "plt.show()"
   ]
  },
  {
   "cell_type": "markdown",
   "metadata": {},
   "source": [
    "## Using sklearn's lasso implementation as baseline"
   ]
  },
  {
   "cell_type": "code",
   "execution_count": null,
   "metadata": {},
   "outputs": [],
   "source": [
    "theta_lasso = pr.get_sklearn_lasso_estimate(X, y)\n",
    "print(theta_lasso.shape)"
   ]
  },
  {
   "cell_type": "code",
   "execution_count": null,
   "metadata": {},
   "outputs": [],
   "source": [
    "fig, ax = plt.subplots(2, figsize=(10,6))\n",
    "pr.plot_coefficients(ax, theta_true=theta_true, indices_support=indices_support, theta_hat=theta_lasso, label=\"lasso\")\n",
    "plt.show()"
   ]
  },
  {
   "cell_type": "markdown",
   "metadata": {},
   "source": [
    "## Bayesian lasso using a Laplace prior"
   ]
  },
  {
   "cell_type": "code",
   "execution_count": null,
   "metadata": {},
   "outputs": [],
   "source": [
    "trace = pr.get_mcmc_sample_for_laplace_prior(X, y)\n",
    "accept = np.sum(trace['theta'][1:,0] != trace['theta'][:-1,0])\n",
    "print(\"Acceptance Rate: \", accept/trace['theta'][:,0].shape[0])"
   ]
  },
  {
   "cell_type": "code",
   "execution_count": null,
   "metadata": {},
   "outputs": [],
   "source": [
    "pm.summary(trace)"
   ]
  },
  {
   "cell_type": "code",
   "execution_count": null,
   "metadata": {},
   "outputs": [],
   "source": []
  },
  {
   "cell_type": "code",
   "execution_count": null,
   "metadata": {},
   "outputs": [],
   "source": [
    "score=pm3.geweke(trace, first=0.1, last=0.5, intervals=20)\n",
    "plt.scatter(score[0]['Mean of Data'][:,0],score[0]['Mean of Data'][:,1], marker = 'o', s=100)\n",
    "plt.axhline(-1.98, c='r')\n",
    "plt.axhline(1.98, c='r')\n",
    "plt.ylim(-2.5,2.5)\n",
    "plt.xlim(0-10,.5*trace['Mean of Data'].shape[0]/2+10)\n",
    "plt.title('Geweke Plot Comparing first 10% and Slices of the Last 50% of Chain\\nDifference in Mean Z score')\n",
    "plt.show()"
   ]
  },
  {
   "cell_type": "code",
   "execution_count": null,
   "metadata": {},
   "outputs": [],
   "source": [
    "theta_laplace = trace.get_values('theta').mean(0) # not expected to show much sparsity\n",
    "lower_bound_laplace = np.quantile(trace.get_values('theta'), 0.025, axis=0)\n",
    "upper_bound_laplace = np.quantile(trace.get_values('theta'), 0.975, axis=0)"
   ]
  },
  {
   "cell_type": "code",
   "execution_count": null,
   "metadata": {},
   "outputs": [],
   "source": [
    "#pm.traceplot(trace)"
   ]
  },
  {
   "cell_type": "code",
   "execution_count": null,
   "metadata": {},
   "outputs": [],
   "source": [
    "f, ax = plt.subplots(2, figsize=(10,8))\n",
    "pr.plot_coefficients(ax, theta_true, indices_support=indices_support, theta_hat=theta_laplace, lower_bound=lower_bound_laplace, upper_bound=upper_bound_laplace,\n",
    "             color=\"blue\", label=\"laplace\")\n",
    "pr.plot_coefficients(ax, theta_true, indices_support=indices_support, theta_hat=theta_lasso, color=\"red\", label=\"lasso\")\n",
    "plt.show()"
   ]
  },
  {
   "cell_type": "markdown",
   "metadata": {},
   "source": [
    "The Laplace prior tends to overregularize. Can you get rid of that problem playing with the prior?"
   ]
  },
  {
   "cell_type": "markdown",
   "metadata": {},
   "source": [
    "## Bayesian lasso using the horseshoe prior"
   ]
  },
  {
   "cell_type": "code",
   "execution_count": null,
   "metadata": {},
   "outputs": [],
   "source": [
    "trace_horseshoe = pr.get_mcmc_sample_for_horseshoe_prior(X, y)"
   ]
  },
  {
   "cell_type": "code",
   "execution_count": null,
   "metadata": {},
   "outputs": [],
   "source": [
    "pm.summary(trace_horseshoe)"
   ]
  },
  {
   "cell_type": "code",
   "execution_count": null,
   "metadata": {},
   "outputs": [],
   "source": [
    "print(pm.gelman_rubin(trace_horseshoe))"
   ]
  },
  {
   "cell_type": "code",
   "execution_count": null,
   "metadata": {},
   "outputs": [],
   "source": [
    "theta_horseshoe = trace_horseshoe.get_values('theta').mean(0)\n",
    "lower_bound_horseshoe = np.quantile(trace_horseshoe.get_values('theta'), 0.025, axis=0)\n",
    "upper_bound_horseshoe = np.quantile(trace_horseshoe.get_values('theta'), 0.975, axis=0)"
   ]
  },
  {
   "cell_type": "code",
   "execution_count": null,
   "metadata": {
    "scrolled": true
   },
   "outputs": [],
   "source": [
    "f, ax = plt.subplots(2, figsize=(10,8))\n",
    "pr.plot_coefficients(ax, theta_true, indices_support=indices_support, theta_hat=theta_laplace, lower_bound=lower_bound_laplace, upper_bound=upper_bound_laplace,\n",
    "                     color=\"blue\", label=\"laplace\")\n",
    "pr.plot_coefficients(ax, theta_true=theta_true, indices_support=indices_support, theta_hat=theta_horseshoe, lower_bound=lower_bound_horseshoe, \n",
    "                     upper_bound=upper_bound_horseshoe, color=\"orange\", label=\"horseshoe\")\n",
    "#pr.plot_coefficients(theta_true, theta_lasso, color=\"red\", label=\"lasso\")\n",
    "\n",
    "plt.show()"
   ]
  },
  {
   "cell_type": "markdown",
   "metadata": {},
   "source": [
    "## Bayesian lasso using the Finnish horseshoe prior"
   ]
  },
  {
   "cell_type": "code",
   "execution_count": null,
   "metadata": {},
   "outputs": [],
   "source": [
    "trace_finnish_horseshoe = pr.get_mcmc_sample_for_finnish_horseshoe_prior(X, y)"
   ]
  },
  {
   "cell_type": "code",
   "execution_count": null,
   "metadata": {},
   "outputs": [],
   "source": [
    "theta_finnish_horseshoe = trace_finnish_horseshoe.get_values('theta').mean(0)\n",
    "lower_bound_finnish_horseshoe = np.quantile(trace_finnish_horseshoe.get_values('theta'), 0.025, axis=0)\n",
    "upper_bound_finnish_horseshoe = np.quantile(trace_finnish_horseshoe.get_values('theta'), 0.975, axis=0)"
   ]
  },
  {
   "cell_type": "code",
   "execution_count": null,
   "metadata": {},
   "outputs": [],
   "source": [
    "f, ax = plt.subplots(2, figsize=(10,8))\n",
    "pr.plot_coefficients(ax, theta_true, indices_support=indices_support, theta_hat=theta_laplace,\n",
    "                     color=\"blue\", label=\"laplace\")\n",
    "pr.plot_coefficients(ax, theta_true=theta_true, indices_support=indices_support, theta_hat=theta_horseshoe, lower_bound=lower_bound_horseshoe, \n",
    "                     upper_bound=upper_bound_horseshoe, color=\"orange\", label=\"horseshoe\")\n",
    "pr.plot_coefficients(ax, theta_true, indices_support=indices_support, theta_hat=theta_finnish_horseshoe, lower_bound=lower_bound_finnish_horseshoe, \n",
    "                     upper_bound=upper_bound_finnish_horseshoe, color=\"magenta\", label=\"finnish\")\n",
    "#pr.plot_coefficients(theta_true, theta_lasso, color=\"red\", label=\"lasso\")\n",
    "\n",
    "plt.show()"
   ]
  },
  {
   "cell_type": "code",
   "execution_count": null,
   "metadata": {},
   "outputs": [],
   "source": []
  }
 ],
 "metadata": {
  "kernelspec": {
   "display_name": "Python 3",
   "language": "python",
   "name": "python3"
  },
  "language_info": {
   "codemirror_mode": {
    "name": "ipython",
    "version": 3
   },
   "file_extension": ".py",
   "mimetype": "text/x-python",
   "name": "python",
   "nbconvert_exporter": "python",
   "pygments_lexer": "ipython3",
   "version": "3.7.4"
  }
 },
 "nbformat": 4,
 "nbformat_minor": 2
}
